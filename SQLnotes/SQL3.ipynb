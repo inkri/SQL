{
 "cells": [
  {
   "cell_type": "code",
   "execution_count": 1,
   "id": "bright-insured",
   "metadata": {},
   "outputs": [],
   "source": [
    "#https://mode.com/sql-tutorial/introduction-to-sql/\n",
    "#https://www.analyticsvidhya.com/blog/2020/07/8-sql-techniques-data-analysis-analytics-data-science/"
   ]
  },
  {
   "cell_type": "code",
   "execution_count": null,
   "id": "surrounded-tuner",
   "metadata": {},
   "outputs": [],
   "source": []
  }
 ],
 "metadata": {
  "kernelspec": {
   "display_name": "Python 3",
   "language": "python",
   "name": "python3"
  },
  "language_info": {
   "codemirror_mode": {
    "name": "ipython",
    "version": 3
   },
   "file_extension": ".py",
   "mimetype": "text/x-python",
   "name": "python",
   "nbconvert_exporter": "python",
   "pygments_lexer": "ipython3",
   "version": "3.8.3"
  }
 },
 "nbformat": 4,
 "nbformat_minor": 5
}
